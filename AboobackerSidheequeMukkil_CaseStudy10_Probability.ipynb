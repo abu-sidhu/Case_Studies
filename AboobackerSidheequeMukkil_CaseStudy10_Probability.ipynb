{
 "cells": [
  {
   "cell_type": "markdown",
   "id": "c8ac9820",
   "metadata": {},
   "source": [
    "# Case Study on Probability for Data Science"
   ]
  },
  {
   "cell_type": "code",
   "execution_count": 1,
   "id": "e2ad742a",
   "metadata": {},
   "outputs": [],
   "source": [
    "import numpy as np\n",
    "import pandas as pd\n",
    "import matplotlib.pyplot as plt\n",
    "import seaborn as sns"
   ]
  },
  {
   "cell_type": "code",
   "execution_count": 2,
   "id": "9e9172ad",
   "metadata": {},
   "outputs": [],
   "source": [
    "import warnings\n",
    "warnings.filterwarnings('ignore')"
   ]
  },
  {
   "cell_type": "markdown",
   "id": "4427feca",
   "metadata": {},
   "source": [
    "## Reading the dataset"
   ]
  },
  {
   "cell_type": "code",
   "execution_count": 3,
   "id": "58af2b97",
   "metadata": {},
   "outputs": [],
   "source": [
    "data=pd.read_csv('mushrooms.csv')"
   ]
  },
  {
   "cell_type": "code",
   "execution_count": 4,
   "id": "2ed5895b",
   "metadata": {},
   "outputs": [
    {
     "data": {
      "text/html": [
       "<div>\n",
       "<style scoped>\n",
       "    .dataframe tbody tr th:only-of-type {\n",
       "        vertical-align: middle;\n",
       "    }\n",
       "\n",
       "    .dataframe tbody tr th {\n",
       "        vertical-align: top;\n",
       "    }\n",
       "\n",
       "    .dataframe thead th {\n",
       "        text-align: right;\n",
       "    }\n",
       "</style>\n",
       "<table border=\"1\" class=\"dataframe\">\n",
       "  <thead>\n",
       "    <tr style=\"text-align: right;\">\n",
       "      <th></th>\n",
       "      <th>class</th>\n",
       "      <th>cap-shape</th>\n",
       "      <th>cap-surface</th>\n",
       "      <th>cap-color</th>\n",
       "      <th>bruises</th>\n",
       "      <th>odor</th>\n",
       "      <th>gill-attachment</th>\n",
       "      <th>gill-spacing</th>\n",
       "      <th>gill-size</th>\n",
       "      <th>gill-color</th>\n",
       "      <th>...</th>\n",
       "      <th>stalk-surface-below-ring</th>\n",
       "      <th>stalk-color-above-ring</th>\n",
       "      <th>stalk-color-below-ring</th>\n",
       "      <th>veil-type</th>\n",
       "      <th>veil-color</th>\n",
       "      <th>ring-number</th>\n",
       "      <th>ring-type</th>\n",
       "      <th>spore-print-color</th>\n",
       "      <th>population</th>\n",
       "      <th>habitat</th>\n",
       "    </tr>\n",
       "  </thead>\n",
       "  <tbody>\n",
       "    <tr>\n",
       "      <th>0</th>\n",
       "      <td>p</td>\n",
       "      <td>x</td>\n",
       "      <td>s</td>\n",
       "      <td>n</td>\n",
       "      <td>t</td>\n",
       "      <td>p</td>\n",
       "      <td>f</td>\n",
       "      <td>c</td>\n",
       "      <td>n</td>\n",
       "      <td>k</td>\n",
       "      <td>...</td>\n",
       "      <td>s</td>\n",
       "      <td>w</td>\n",
       "      <td>w</td>\n",
       "      <td>p</td>\n",
       "      <td>w</td>\n",
       "      <td>o</td>\n",
       "      <td>p</td>\n",
       "      <td>k</td>\n",
       "      <td>s</td>\n",
       "      <td>u</td>\n",
       "    </tr>\n",
       "    <tr>\n",
       "      <th>1</th>\n",
       "      <td>e</td>\n",
       "      <td>x</td>\n",
       "      <td>s</td>\n",
       "      <td>y</td>\n",
       "      <td>t</td>\n",
       "      <td>a</td>\n",
       "      <td>f</td>\n",
       "      <td>c</td>\n",
       "      <td>b</td>\n",
       "      <td>k</td>\n",
       "      <td>...</td>\n",
       "      <td>s</td>\n",
       "      <td>w</td>\n",
       "      <td>w</td>\n",
       "      <td>p</td>\n",
       "      <td>w</td>\n",
       "      <td>o</td>\n",
       "      <td>p</td>\n",
       "      <td>n</td>\n",
       "      <td>n</td>\n",
       "      <td>g</td>\n",
       "    </tr>\n",
       "    <tr>\n",
       "      <th>2</th>\n",
       "      <td>e</td>\n",
       "      <td>b</td>\n",
       "      <td>s</td>\n",
       "      <td>w</td>\n",
       "      <td>t</td>\n",
       "      <td>l</td>\n",
       "      <td>f</td>\n",
       "      <td>c</td>\n",
       "      <td>b</td>\n",
       "      <td>n</td>\n",
       "      <td>...</td>\n",
       "      <td>s</td>\n",
       "      <td>w</td>\n",
       "      <td>w</td>\n",
       "      <td>p</td>\n",
       "      <td>w</td>\n",
       "      <td>o</td>\n",
       "      <td>p</td>\n",
       "      <td>n</td>\n",
       "      <td>n</td>\n",
       "      <td>m</td>\n",
       "    </tr>\n",
       "    <tr>\n",
       "      <th>3</th>\n",
       "      <td>p</td>\n",
       "      <td>x</td>\n",
       "      <td>y</td>\n",
       "      <td>w</td>\n",
       "      <td>t</td>\n",
       "      <td>p</td>\n",
       "      <td>f</td>\n",
       "      <td>c</td>\n",
       "      <td>n</td>\n",
       "      <td>n</td>\n",
       "      <td>...</td>\n",
       "      <td>s</td>\n",
       "      <td>w</td>\n",
       "      <td>w</td>\n",
       "      <td>p</td>\n",
       "      <td>w</td>\n",
       "      <td>o</td>\n",
       "      <td>p</td>\n",
       "      <td>k</td>\n",
       "      <td>s</td>\n",
       "      <td>u</td>\n",
       "    </tr>\n",
       "    <tr>\n",
       "      <th>4</th>\n",
       "      <td>e</td>\n",
       "      <td>x</td>\n",
       "      <td>s</td>\n",
       "      <td>g</td>\n",
       "      <td>f</td>\n",
       "      <td>n</td>\n",
       "      <td>f</td>\n",
       "      <td>w</td>\n",
       "      <td>b</td>\n",
       "      <td>k</td>\n",
       "      <td>...</td>\n",
       "      <td>s</td>\n",
       "      <td>w</td>\n",
       "      <td>w</td>\n",
       "      <td>p</td>\n",
       "      <td>w</td>\n",
       "      <td>o</td>\n",
       "      <td>e</td>\n",
       "      <td>n</td>\n",
       "      <td>a</td>\n",
       "      <td>g</td>\n",
       "    </tr>\n",
       "  </tbody>\n",
       "</table>\n",
       "<p>5 rows × 23 columns</p>\n",
       "</div>"
      ],
      "text/plain": [
       "  class cap-shape cap-surface cap-color bruises odor gill-attachment  \\\n",
       "0     p         x           s         n       t    p               f   \n",
       "1     e         x           s         y       t    a               f   \n",
       "2     e         b           s         w       t    l               f   \n",
       "3     p         x           y         w       t    p               f   \n",
       "4     e         x           s         g       f    n               f   \n",
       "\n",
       "  gill-spacing gill-size gill-color  ... stalk-surface-below-ring  \\\n",
       "0            c         n          k  ...                        s   \n",
       "1            c         b          k  ...                        s   \n",
       "2            c         b          n  ...                        s   \n",
       "3            c         n          n  ...                        s   \n",
       "4            w         b          k  ...                        s   \n",
       "\n",
       "  stalk-color-above-ring stalk-color-below-ring veil-type veil-color  \\\n",
       "0                      w                      w         p          w   \n",
       "1                      w                      w         p          w   \n",
       "2                      w                      w         p          w   \n",
       "3                      w                      w         p          w   \n",
       "4                      w                      w         p          w   \n",
       "\n",
       "  ring-number ring-type spore-print-color population habitat  \n",
       "0           o         p                 k          s       u  \n",
       "1           o         p                 n          n       g  \n",
       "2           o         p                 n          n       m  \n",
       "3           o         p                 k          s       u  \n",
       "4           o         e                 n          a       g  \n",
       "\n",
       "[5 rows x 23 columns]"
      ]
     },
     "execution_count": 4,
     "metadata": {},
     "output_type": "execute_result"
    }
   ],
   "source": [
    "data.head()"
   ]
  },
  {
   "cell_type": "code",
   "execution_count": 5,
   "id": "bc122e98",
   "metadata": {
    "scrolled": true
   },
   "outputs": [
    {
     "data": {
      "text/plain": [
       "(8124, 23)"
      ]
     },
     "execution_count": 5,
     "metadata": {},
     "output_type": "execute_result"
    }
   ],
   "source": [
    "data.shape"
   ]
  },
  {
   "cell_type": "code",
   "execution_count": 6,
   "id": "19d48034",
   "metadata": {},
   "outputs": [
    {
     "data": {
      "text/html": [
       "<div>\n",
       "<style scoped>\n",
       "    .dataframe tbody tr th:only-of-type {\n",
       "        vertical-align: middle;\n",
       "    }\n",
       "\n",
       "    .dataframe tbody tr th {\n",
       "        vertical-align: top;\n",
       "    }\n",
       "\n",
       "    .dataframe thead th {\n",
       "        text-align: right;\n",
       "    }\n",
       "</style>\n",
       "<table border=\"1\" class=\"dataframe\">\n",
       "  <thead>\n",
       "    <tr style=\"text-align: right;\">\n",
       "      <th></th>\n",
       "      <th>class</th>\n",
       "      <th>cap-shape</th>\n",
       "      <th>cap-surface</th>\n",
       "      <th>cap-color</th>\n",
       "      <th>bruises</th>\n",
       "      <th>odor</th>\n",
       "      <th>gill-attachment</th>\n",
       "      <th>gill-spacing</th>\n",
       "      <th>gill-size</th>\n",
       "      <th>gill-color</th>\n",
       "      <th>...</th>\n",
       "      <th>stalk-surface-below-ring</th>\n",
       "      <th>stalk-color-above-ring</th>\n",
       "      <th>stalk-color-below-ring</th>\n",
       "      <th>veil-type</th>\n",
       "      <th>veil-color</th>\n",
       "      <th>ring-number</th>\n",
       "      <th>ring-type</th>\n",
       "      <th>spore-print-color</th>\n",
       "      <th>population</th>\n",
       "      <th>habitat</th>\n",
       "    </tr>\n",
       "  </thead>\n",
       "  <tbody>\n",
       "    <tr>\n",
       "      <th>count</th>\n",
       "      <td>8124</td>\n",
       "      <td>8124</td>\n",
       "      <td>8124</td>\n",
       "      <td>8124</td>\n",
       "      <td>8124</td>\n",
       "      <td>8124</td>\n",
       "      <td>8124</td>\n",
       "      <td>8124</td>\n",
       "      <td>8124</td>\n",
       "      <td>8124</td>\n",
       "      <td>...</td>\n",
       "      <td>8124</td>\n",
       "      <td>8124</td>\n",
       "      <td>8124</td>\n",
       "      <td>8124</td>\n",
       "      <td>8124</td>\n",
       "      <td>8124</td>\n",
       "      <td>8124</td>\n",
       "      <td>8124</td>\n",
       "      <td>8124</td>\n",
       "      <td>8124</td>\n",
       "    </tr>\n",
       "    <tr>\n",
       "      <th>unique</th>\n",
       "      <td>2</td>\n",
       "      <td>6</td>\n",
       "      <td>4</td>\n",
       "      <td>10</td>\n",
       "      <td>2</td>\n",
       "      <td>9</td>\n",
       "      <td>2</td>\n",
       "      <td>2</td>\n",
       "      <td>2</td>\n",
       "      <td>12</td>\n",
       "      <td>...</td>\n",
       "      <td>4</td>\n",
       "      <td>9</td>\n",
       "      <td>9</td>\n",
       "      <td>1</td>\n",
       "      <td>4</td>\n",
       "      <td>3</td>\n",
       "      <td>5</td>\n",
       "      <td>9</td>\n",
       "      <td>6</td>\n",
       "      <td>7</td>\n",
       "    </tr>\n",
       "    <tr>\n",
       "      <th>top</th>\n",
       "      <td>e</td>\n",
       "      <td>x</td>\n",
       "      <td>y</td>\n",
       "      <td>n</td>\n",
       "      <td>f</td>\n",
       "      <td>n</td>\n",
       "      <td>f</td>\n",
       "      <td>c</td>\n",
       "      <td>b</td>\n",
       "      <td>b</td>\n",
       "      <td>...</td>\n",
       "      <td>s</td>\n",
       "      <td>w</td>\n",
       "      <td>w</td>\n",
       "      <td>p</td>\n",
       "      <td>w</td>\n",
       "      <td>o</td>\n",
       "      <td>p</td>\n",
       "      <td>w</td>\n",
       "      <td>v</td>\n",
       "      <td>d</td>\n",
       "    </tr>\n",
       "    <tr>\n",
       "      <th>freq</th>\n",
       "      <td>4208</td>\n",
       "      <td>3656</td>\n",
       "      <td>3244</td>\n",
       "      <td>2284</td>\n",
       "      <td>4748</td>\n",
       "      <td>3528</td>\n",
       "      <td>7914</td>\n",
       "      <td>6812</td>\n",
       "      <td>5612</td>\n",
       "      <td>1728</td>\n",
       "      <td>...</td>\n",
       "      <td>4936</td>\n",
       "      <td>4464</td>\n",
       "      <td>4384</td>\n",
       "      <td>8124</td>\n",
       "      <td>7924</td>\n",
       "      <td>7488</td>\n",
       "      <td>3968</td>\n",
       "      <td>2388</td>\n",
       "      <td>4040</td>\n",
       "      <td>3148</td>\n",
       "    </tr>\n",
       "  </tbody>\n",
       "</table>\n",
       "<p>4 rows × 23 columns</p>\n",
       "</div>"
      ],
      "text/plain": [
       "       class cap-shape cap-surface cap-color bruises  odor gill-attachment  \\\n",
       "count   8124      8124        8124      8124    8124  8124            8124   \n",
       "unique     2         6           4        10       2     9               2   \n",
       "top        e         x           y         n       f     n               f   \n",
       "freq    4208      3656        3244      2284    4748  3528            7914   \n",
       "\n",
       "       gill-spacing gill-size gill-color  ... stalk-surface-below-ring  \\\n",
       "count          8124      8124       8124  ...                     8124   \n",
       "unique            2         2         12  ...                        4   \n",
       "top               c         b          b  ...                        s   \n",
       "freq           6812      5612       1728  ...                     4936   \n",
       "\n",
       "       stalk-color-above-ring stalk-color-below-ring veil-type veil-color  \\\n",
       "count                    8124                   8124      8124       8124   \n",
       "unique                      9                      9         1          4   \n",
       "top                         w                      w         p          w   \n",
       "freq                     4464                   4384      8124       7924   \n",
       "\n",
       "       ring-number ring-type spore-print-color population habitat  \n",
       "count         8124      8124              8124       8124    8124  \n",
       "unique           3         5                 9          6       7  \n",
       "top              o         p                 w          v       d  \n",
       "freq          7488      3968              2388       4040    3148  \n",
       "\n",
       "[4 rows x 23 columns]"
      ]
     },
     "execution_count": 6,
     "metadata": {},
     "output_type": "execute_result"
    }
   ],
   "source": [
    "data.describe()"
   ]
  },
  {
   "cell_type": "markdown",
   "id": "cf46dcbe",
   "metadata": {},
   "source": [
    "## Preprocessing"
   ]
  },
  {
   "cell_type": "markdown",
   "id": "db352a08",
   "metadata": {},
   "source": [
    "### a.Handling missing values"
   ]
  },
  {
   "cell_type": "code",
   "execution_count": 7,
   "id": "d222b6db",
   "metadata": {},
   "outputs": [
    {
     "name": "stdout",
     "output_type": "stream",
     "text": [
      "<class 'pandas.core.frame.DataFrame'>\n",
      "RangeIndex: 8124 entries, 0 to 8123\n",
      "Data columns (total 23 columns):\n",
      " #   Column                    Non-Null Count  Dtype \n",
      "---  ------                    --------------  ----- \n",
      " 0   class                     8124 non-null   object\n",
      " 1   cap-shape                 8124 non-null   object\n",
      " 2   cap-surface               8124 non-null   object\n",
      " 3   cap-color                 8124 non-null   object\n",
      " 4   bruises                   8124 non-null   object\n",
      " 5   odor                      8124 non-null   object\n",
      " 6   gill-attachment           8124 non-null   object\n",
      " 7   gill-spacing              8124 non-null   object\n",
      " 8   gill-size                 8124 non-null   object\n",
      " 9   gill-color                8124 non-null   object\n",
      " 10  stalk-shape               8124 non-null   object\n",
      " 11  stalk-root                8124 non-null   object\n",
      " 12  stalk-surface-above-ring  8124 non-null   object\n",
      " 13  stalk-surface-below-ring  8124 non-null   object\n",
      " 14  stalk-color-above-ring    8124 non-null   object\n",
      " 15  stalk-color-below-ring    8124 non-null   object\n",
      " 16  veil-type                 8124 non-null   object\n",
      " 17  veil-color                8124 non-null   object\n",
      " 18  ring-number               8124 non-null   object\n",
      " 19  ring-type                 8124 non-null   object\n",
      " 20  spore-print-color         8124 non-null   object\n",
      " 21  population                8124 non-null   object\n",
      " 22  habitat                   8124 non-null   object\n",
      "dtypes: object(23)\n",
      "memory usage: 1.4+ MB\n"
     ]
    }
   ],
   "source": [
    "data.info()"
   ]
  },
  {
   "cell_type": "code",
   "execution_count": 8,
   "id": "5eb6ae36",
   "metadata": {},
   "outputs": [
    {
     "data": {
      "text/plain": [
       "class                       0\n",
       "cap-shape                   0\n",
       "cap-surface                 0\n",
       "cap-color                   0\n",
       "bruises                     0\n",
       "odor                        0\n",
       "gill-attachment             0\n",
       "gill-spacing                0\n",
       "gill-size                   0\n",
       "gill-color                  0\n",
       "stalk-shape                 0\n",
       "stalk-root                  0\n",
       "stalk-surface-above-ring    0\n",
       "stalk-surface-below-ring    0\n",
       "stalk-color-above-ring      0\n",
       "stalk-color-below-ring      0\n",
       "veil-type                   0\n",
       "veil-color                  0\n",
       "ring-number                 0\n",
       "ring-type                   0\n",
       "spore-print-color           0\n",
       "population                  0\n",
       "habitat                     0\n",
       "dtype: int64"
      ]
     },
     "execution_count": 8,
     "metadata": {},
     "output_type": "execute_result"
    }
   ],
   "source": [
    "data.isna().sum()"
   ]
  },
  {
   "cell_type": "code",
   "execution_count": 9,
   "id": "557ed787",
   "metadata": {},
   "outputs": [
    {
     "data": {
      "text/plain": [
       "Index(['class', 'cap-shape', 'cap-surface', 'cap-color', 'bruises', 'odor',\n",
       "       'gill-attachment', 'gill-spacing', 'gill-size', 'gill-color',\n",
       "       'stalk-shape', 'stalk-root', 'stalk-surface-above-ring',\n",
       "       'stalk-surface-below-ring', 'stalk-color-above-ring',\n",
       "       'stalk-color-below-ring', 'veil-type', 'veil-color', 'ring-number',\n",
       "       'ring-type', 'spore-print-color', 'population', 'habitat'],\n",
       "      dtype='object')"
      ]
     },
     "execution_count": 9,
     "metadata": {},
     "output_type": "execute_result"
    }
   ],
   "source": [
    "data.columns"
   ]
  },
  {
   "cell_type": "code",
   "execution_count": 10,
   "id": "c65f2257",
   "metadata": {},
   "outputs": [
    {
     "data": {
      "text/html": [
       "<div>\n",
       "<style scoped>\n",
       "    .dataframe tbody tr th:only-of-type {\n",
       "        vertical-align: middle;\n",
       "    }\n",
       "\n",
       "    .dataframe tbody tr th {\n",
       "        vertical-align: top;\n",
       "    }\n",
       "\n",
       "    .dataframe thead th {\n",
       "        text-align: right;\n",
       "    }\n",
       "</style>\n",
       "<table border=\"1\" class=\"dataframe\">\n",
       "  <thead>\n",
       "    <tr style=\"text-align: right;\">\n",
       "      <th></th>\n",
       "      <th>stalk-root</th>\n",
       "    </tr>\n",
       "  </thead>\n",
       "  <tbody>\n",
       "    <tr>\n",
       "      <th>0</th>\n",
       "      <td>e</td>\n",
       "    </tr>\n",
       "    <tr>\n",
       "      <th>1</th>\n",
       "      <td>c</td>\n",
       "    </tr>\n",
       "    <tr>\n",
       "      <th>2</th>\n",
       "      <td>c</td>\n",
       "    </tr>\n",
       "    <tr>\n",
       "      <th>3</th>\n",
       "      <td>e</td>\n",
       "    </tr>\n",
       "    <tr>\n",
       "      <th>4</th>\n",
       "      <td>e</td>\n",
       "    </tr>\n",
       "    <tr>\n",
       "      <th>...</th>\n",
       "      <td>...</td>\n",
       "    </tr>\n",
       "    <tr>\n",
       "      <th>8119</th>\n",
       "      <td>?</td>\n",
       "    </tr>\n",
       "    <tr>\n",
       "      <th>8120</th>\n",
       "      <td>?</td>\n",
       "    </tr>\n",
       "    <tr>\n",
       "      <th>8121</th>\n",
       "      <td>?</td>\n",
       "    </tr>\n",
       "    <tr>\n",
       "      <th>8122</th>\n",
       "      <td>?</td>\n",
       "    </tr>\n",
       "    <tr>\n",
       "      <th>8123</th>\n",
       "      <td>?</td>\n",
       "    </tr>\n",
       "  </tbody>\n",
       "</table>\n",
       "<p>8124 rows × 1 columns</p>\n",
       "</div>"
      ],
      "text/plain": [
       "     stalk-root\n",
       "0             e\n",
       "1             c\n",
       "2             c\n",
       "3             e\n",
       "4             e\n",
       "...         ...\n",
       "8119          ?\n",
       "8120          ?\n",
       "8121          ?\n",
       "8122          ?\n",
       "8123          ?\n",
       "\n",
       "[8124 rows x 1 columns]"
      ]
     },
     "execution_count": 10,
     "metadata": {},
     "output_type": "execute_result"
    }
   ],
   "source": [
    "data[['stalk-root']]"
   ]
  },
  {
   "cell_type": "code",
   "execution_count": 11,
   "id": "fa4e0893",
   "metadata": {
    "scrolled": true
   },
   "outputs": [
    {
     "data": {
      "text/plain": [
       "False    5644\n",
       "True     2480\n",
       "Name: stalk-root, dtype: int64"
      ]
     },
     "execution_count": 11,
     "metadata": {},
     "output_type": "execute_result"
    }
   ],
   "source": [
    "(data['stalk-root']=='?').value_counts()"
   ]
  },
  {
   "cell_type": "code",
   "execution_count": 12,
   "id": "29edec40",
   "metadata": {},
   "outputs": [
    {
     "data": {
      "text/html": [
       "<div>\n",
       "<style scoped>\n",
       "    .dataframe tbody tr th:only-of-type {\n",
       "        vertical-align: middle;\n",
       "    }\n",
       "\n",
       "    .dataframe tbody tr th {\n",
       "        vertical-align: top;\n",
       "    }\n",
       "\n",
       "    .dataframe thead th {\n",
       "        text-align: right;\n",
       "    }\n",
       "</style>\n",
       "<table border=\"1\" class=\"dataframe\">\n",
       "  <thead>\n",
       "    <tr style=\"text-align: right;\">\n",
       "      <th></th>\n",
       "      <th>stalk-root</th>\n",
       "    </tr>\n",
       "  </thead>\n",
       "  <tbody>\n",
       "    <tr>\n",
       "      <th>3984</th>\n",
       "      <td>?</td>\n",
       "    </tr>\n",
       "    <tr>\n",
       "      <th>4023</th>\n",
       "      <td>?</td>\n",
       "    </tr>\n",
       "    <tr>\n",
       "      <th>4076</th>\n",
       "      <td>?</td>\n",
       "    </tr>\n",
       "    <tr>\n",
       "      <th>4100</th>\n",
       "      <td>?</td>\n",
       "    </tr>\n",
       "    <tr>\n",
       "      <th>4104</th>\n",
       "      <td>?</td>\n",
       "    </tr>\n",
       "    <tr>\n",
       "      <th>...</th>\n",
       "      <td>...</td>\n",
       "    </tr>\n",
       "    <tr>\n",
       "      <th>8119</th>\n",
       "      <td>?</td>\n",
       "    </tr>\n",
       "    <tr>\n",
       "      <th>8120</th>\n",
       "      <td>?</td>\n",
       "    </tr>\n",
       "    <tr>\n",
       "      <th>8121</th>\n",
       "      <td>?</td>\n",
       "    </tr>\n",
       "    <tr>\n",
       "      <th>8122</th>\n",
       "      <td>?</td>\n",
       "    </tr>\n",
       "    <tr>\n",
       "      <th>8123</th>\n",
       "      <td>?</td>\n",
       "    </tr>\n",
       "  </tbody>\n",
       "</table>\n",
       "<p>2480 rows × 1 columns</p>\n",
       "</div>"
      ],
      "text/plain": [
       "     stalk-root\n",
       "3984          ?\n",
       "4023          ?\n",
       "4076          ?\n",
       "4100          ?\n",
       "4104          ?\n",
       "...         ...\n",
       "8119          ?\n",
       "8120          ?\n",
       "8121          ?\n",
       "8122          ?\n",
       "8123          ?\n",
       "\n",
       "[2480 rows x 1 columns]"
      ]
     },
     "execution_count": 12,
     "metadata": {},
     "output_type": "execute_result"
    }
   ],
   "source": [
    "data[(data['stalk-root']=='?')][['stalk-root']]"
   ]
  },
  {
   "cell_type": "markdown",
   "id": "651ae793",
   "metadata": {},
   "source": [
    "#### There are 2480 missing values as '?' in 'Stalk-root'"
   ]
  },
  {
   "cell_type": "code",
   "execution_count": 13,
   "id": "5b6473ca",
   "metadata": {},
   "outputs": [],
   "source": [
    "data['stalk-root'] = data['stalk-root'].str.replace('?',data['stalk-root'].mode()[0])"
   ]
  },
  {
   "cell_type": "markdown",
   "id": "b29d5e67",
   "metadata": {},
   "source": [
    "#### The missing values are replaced with mode value of 'Stalk-root'"
   ]
  },
  {
   "cell_type": "code",
   "execution_count": 14,
   "id": "b359f7fe",
   "metadata": {},
   "outputs": [
    {
     "data": {
      "text/html": [
       "<div>\n",
       "<style scoped>\n",
       "    .dataframe tbody tr th:only-of-type {\n",
       "        vertical-align: middle;\n",
       "    }\n",
       "\n",
       "    .dataframe tbody tr th {\n",
       "        vertical-align: top;\n",
       "    }\n",
       "\n",
       "    .dataframe thead th {\n",
       "        text-align: right;\n",
       "    }\n",
       "</style>\n",
       "<table border=\"1\" class=\"dataframe\">\n",
       "  <thead>\n",
       "    <tr style=\"text-align: right;\">\n",
       "      <th></th>\n",
       "      <th>stalk-root</th>\n",
       "    </tr>\n",
       "  </thead>\n",
       "  <tbody>\n",
       "    <tr>\n",
       "      <th>0</th>\n",
       "      <td>e</td>\n",
       "    </tr>\n",
       "    <tr>\n",
       "      <th>1</th>\n",
       "      <td>c</td>\n",
       "    </tr>\n",
       "    <tr>\n",
       "      <th>2</th>\n",
       "      <td>c</td>\n",
       "    </tr>\n",
       "    <tr>\n",
       "      <th>3</th>\n",
       "      <td>e</td>\n",
       "    </tr>\n",
       "    <tr>\n",
       "      <th>4</th>\n",
       "      <td>e</td>\n",
       "    </tr>\n",
       "    <tr>\n",
       "      <th>...</th>\n",
       "      <td>...</td>\n",
       "    </tr>\n",
       "    <tr>\n",
       "      <th>8119</th>\n",
       "      <td>b</td>\n",
       "    </tr>\n",
       "    <tr>\n",
       "      <th>8120</th>\n",
       "      <td>b</td>\n",
       "    </tr>\n",
       "    <tr>\n",
       "      <th>8121</th>\n",
       "      <td>b</td>\n",
       "    </tr>\n",
       "    <tr>\n",
       "      <th>8122</th>\n",
       "      <td>b</td>\n",
       "    </tr>\n",
       "    <tr>\n",
       "      <th>8123</th>\n",
       "      <td>b</td>\n",
       "    </tr>\n",
       "  </tbody>\n",
       "</table>\n",
       "<p>8124 rows × 1 columns</p>\n",
       "</div>"
      ],
      "text/plain": [
       "     stalk-root\n",
       "0             e\n",
       "1             c\n",
       "2             c\n",
       "3             e\n",
       "4             e\n",
       "...         ...\n",
       "8119          b\n",
       "8120          b\n",
       "8121          b\n",
       "8122          b\n",
       "8123          b\n",
       "\n",
       "[8124 rows x 1 columns]"
      ]
     },
     "execution_count": 14,
     "metadata": {},
     "output_type": "execute_result"
    }
   ],
   "source": [
    "data[['stalk-root']]"
   ]
  },
  {
   "cell_type": "code",
   "execution_count": 15,
   "id": "087783c4",
   "metadata": {
    "scrolled": true
   },
   "outputs": [
    {
     "data": {
      "text/plain": [
       "False    8124\n",
       "Name: stalk-root, dtype: int64"
      ]
     },
     "execution_count": 15,
     "metadata": {},
     "output_type": "execute_result"
    }
   ],
   "source": [
    "(data['stalk-root']=='?').value_counts()"
   ]
  },
  {
   "cell_type": "markdown",
   "id": "8d6ef970",
   "metadata": {},
   "source": [
    "#### Now there is no missing value in dataset"
   ]
  },
  {
   "cell_type": "markdown",
   "id": "a0556df7",
   "metadata": {},
   "source": [
    "### b.Label Encoding"
   ]
  },
  {
   "cell_type": "code",
   "execution_count": 16,
   "id": "98f93c45",
   "metadata": {},
   "outputs": [
    {
     "data": {
      "text/html": [
       "<div>\n",
       "<style scoped>\n",
       "    .dataframe tbody tr th:only-of-type {\n",
       "        vertical-align: middle;\n",
       "    }\n",
       "\n",
       "    .dataframe tbody tr th {\n",
       "        vertical-align: top;\n",
       "    }\n",
       "\n",
       "    .dataframe thead th {\n",
       "        text-align: right;\n",
       "    }\n",
       "</style>\n",
       "<table border=\"1\" class=\"dataframe\">\n",
       "  <thead>\n",
       "    <tr style=\"text-align: right;\">\n",
       "      <th></th>\n",
       "      <th>class</th>\n",
       "      <th>cap-shape</th>\n",
       "      <th>cap-surface</th>\n",
       "      <th>cap-color</th>\n",
       "      <th>bruises</th>\n",
       "      <th>odor</th>\n",
       "      <th>gill-attachment</th>\n",
       "      <th>gill-spacing</th>\n",
       "      <th>gill-size</th>\n",
       "      <th>gill-color</th>\n",
       "      <th>...</th>\n",
       "      <th>stalk-surface-below-ring</th>\n",
       "      <th>stalk-color-above-ring</th>\n",
       "      <th>stalk-color-below-ring</th>\n",
       "      <th>veil-type</th>\n",
       "      <th>veil-color</th>\n",
       "      <th>ring-number</th>\n",
       "      <th>ring-type</th>\n",
       "      <th>spore-print-color</th>\n",
       "      <th>population</th>\n",
       "      <th>habitat</th>\n",
       "    </tr>\n",
       "  </thead>\n",
       "  <tbody>\n",
       "    <tr>\n",
       "      <th>0</th>\n",
       "      <td>1</td>\n",
       "      <td>5</td>\n",
       "      <td>2</td>\n",
       "      <td>4</td>\n",
       "      <td>1</td>\n",
       "      <td>6</td>\n",
       "      <td>1</td>\n",
       "      <td>0</td>\n",
       "      <td>1</td>\n",
       "      <td>4</td>\n",
       "      <td>...</td>\n",
       "      <td>2</td>\n",
       "      <td>7</td>\n",
       "      <td>7</td>\n",
       "      <td>0</td>\n",
       "      <td>2</td>\n",
       "      <td>1</td>\n",
       "      <td>4</td>\n",
       "      <td>2</td>\n",
       "      <td>3</td>\n",
       "      <td>5</td>\n",
       "    </tr>\n",
       "    <tr>\n",
       "      <th>1</th>\n",
       "      <td>0</td>\n",
       "      <td>5</td>\n",
       "      <td>2</td>\n",
       "      <td>9</td>\n",
       "      <td>1</td>\n",
       "      <td>0</td>\n",
       "      <td>1</td>\n",
       "      <td>0</td>\n",
       "      <td>0</td>\n",
       "      <td>4</td>\n",
       "      <td>...</td>\n",
       "      <td>2</td>\n",
       "      <td>7</td>\n",
       "      <td>7</td>\n",
       "      <td>0</td>\n",
       "      <td>2</td>\n",
       "      <td>1</td>\n",
       "      <td>4</td>\n",
       "      <td>3</td>\n",
       "      <td>2</td>\n",
       "      <td>1</td>\n",
       "    </tr>\n",
       "    <tr>\n",
       "      <th>2</th>\n",
       "      <td>0</td>\n",
       "      <td>0</td>\n",
       "      <td>2</td>\n",
       "      <td>8</td>\n",
       "      <td>1</td>\n",
       "      <td>3</td>\n",
       "      <td>1</td>\n",
       "      <td>0</td>\n",
       "      <td>0</td>\n",
       "      <td>5</td>\n",
       "      <td>...</td>\n",
       "      <td>2</td>\n",
       "      <td>7</td>\n",
       "      <td>7</td>\n",
       "      <td>0</td>\n",
       "      <td>2</td>\n",
       "      <td>1</td>\n",
       "      <td>4</td>\n",
       "      <td>3</td>\n",
       "      <td>2</td>\n",
       "      <td>3</td>\n",
       "    </tr>\n",
       "    <tr>\n",
       "      <th>3</th>\n",
       "      <td>1</td>\n",
       "      <td>5</td>\n",
       "      <td>3</td>\n",
       "      <td>8</td>\n",
       "      <td>1</td>\n",
       "      <td>6</td>\n",
       "      <td>1</td>\n",
       "      <td>0</td>\n",
       "      <td>1</td>\n",
       "      <td>5</td>\n",
       "      <td>...</td>\n",
       "      <td>2</td>\n",
       "      <td>7</td>\n",
       "      <td>7</td>\n",
       "      <td>0</td>\n",
       "      <td>2</td>\n",
       "      <td>1</td>\n",
       "      <td>4</td>\n",
       "      <td>2</td>\n",
       "      <td>3</td>\n",
       "      <td>5</td>\n",
       "    </tr>\n",
       "    <tr>\n",
       "      <th>4</th>\n",
       "      <td>0</td>\n",
       "      <td>5</td>\n",
       "      <td>2</td>\n",
       "      <td>3</td>\n",
       "      <td>0</td>\n",
       "      <td>5</td>\n",
       "      <td>1</td>\n",
       "      <td>1</td>\n",
       "      <td>0</td>\n",
       "      <td>4</td>\n",
       "      <td>...</td>\n",
       "      <td>2</td>\n",
       "      <td>7</td>\n",
       "      <td>7</td>\n",
       "      <td>0</td>\n",
       "      <td>2</td>\n",
       "      <td>1</td>\n",
       "      <td>0</td>\n",
       "      <td>3</td>\n",
       "      <td>0</td>\n",
       "      <td>1</td>\n",
       "    </tr>\n",
       "  </tbody>\n",
       "</table>\n",
       "<p>5 rows × 23 columns</p>\n",
       "</div>"
      ],
      "text/plain": [
       "   class  cap-shape  cap-surface  cap-color  bruises  odor  gill-attachment  \\\n",
       "0      1          5            2          4        1     6                1   \n",
       "1      0          5            2          9        1     0                1   \n",
       "2      0          0            2          8        1     3                1   \n",
       "3      1          5            3          8        1     6                1   \n",
       "4      0          5            2          3        0     5                1   \n",
       "\n",
       "   gill-spacing  gill-size  gill-color  ...  stalk-surface-below-ring  \\\n",
       "0             0          1           4  ...                         2   \n",
       "1             0          0           4  ...                         2   \n",
       "2             0          0           5  ...                         2   \n",
       "3             0          1           5  ...                         2   \n",
       "4             1          0           4  ...                         2   \n",
       "\n",
       "   stalk-color-above-ring  stalk-color-below-ring  veil-type  veil-color  \\\n",
       "0                       7                       7          0           2   \n",
       "1                       7                       7          0           2   \n",
       "2                       7                       7          0           2   \n",
       "3                       7                       7          0           2   \n",
       "4                       7                       7          0           2   \n",
       "\n",
       "   ring-number  ring-type  spore-print-color  population  habitat  \n",
       "0            1          4                  2           3        5  \n",
       "1            1          4                  3           2        1  \n",
       "2            1          4                  3           2        3  \n",
       "3            1          4                  2           3        5  \n",
       "4            1          0                  3           0        1  \n",
       "\n",
       "[5 rows x 23 columns]"
      ]
     },
     "execution_count": 16,
     "metadata": {},
     "output_type": "execute_result"
    }
   ],
   "source": [
    "from sklearn.preprocessing import LabelEncoder\n",
    "label_en=LabelEncoder()\n",
    "data_en=data.apply(label_en.fit_transform)\n",
    "data_en.head()"
   ]
  },
  {
   "cell_type": "code",
   "execution_count": 17,
   "id": "6fd1e47c",
   "metadata": {
    "scrolled": true
   },
   "outputs": [
    {
     "data": {
      "image/png": "[encoded data removed]",
      "text/plain": [
       "<Figure size 720x720 with 25 Axes>"
      ]
     },
     "metadata": {
      "needs_background": "light"
     },
     "output_type": "display_data"
    }
   ],
   "source": [
    "data_en.hist(figsize=(10,10))\n",
    "plt.show()"
   ]
  },
  {
   "cell_type": "code",
   "execution_count": 18,
   "id": "02957c61",
   "metadata": {
    "scrolled": true
   },
   "outputs": [
    {
     "data": {
      "image/png": "[encoded data removed]",
      "text/plain": [
       "<Figure size 1440x504 with 1 Axes>"
      ]
     },
     "metadata": {
      "needs_background": "light"
     },
     "output_type": "display_data"
    }
   ],
   "source": [
    "plt.figure(figsize=(20,7))\n",
    "data_en.boxplot()\n",
    "plt.show()"
   ]
  },
  {
   "cell_type": "markdown",
   "id": "ad6970c5",
   "metadata": {},
   "source": [
    "### c.Outlier handling "
   ]
  },
  {
   "cell_type": "code",
   "execution_count": 19,
   "id": "9e5c9c5a",
   "metadata": {},
   "outputs": [],
   "source": [
    "for i in data_en.columns:\n",
    "    descr= data_en[i].describe()\n",
    "    IQR =descr['75%'] - descr['25%']\n",
    "    upper_limit =  descr['75%'] + 1.5 * IQR\n",
    "    lower_limit =  descr['25%'] - 1.5 * IQR  \n",
    "#     outlier replacement with upper limit and lower limit instead of removing\n",
    "#     data_en[i][data_en[i]>upper_limit] = upper_limit\n",
    "#     data_en[i][data_en[i]<lower_limit] = lower_limit\n",
    "    ind=data_en.loc[(data_en[i]>upper_limit)|(data_en[i]<lower_limit)].index\n",
    "    data_en=data_en.drop(ind)"
   ]
  },
  {
   "cell_type": "code",
   "execution_count": 20,
   "id": "fa9e2797",
   "metadata": {},
   "outputs": [
    {
     "data": {
      "image/png": "[encoded data removed]",
      "text/plain": [
       "<Figure size 1440x504 with 1 Axes>"
      ]
     },
     "metadata": {
      "needs_background": "light"
     },
     "output_type": "display_data"
    }
   ],
   "source": [
    "plt.figure(figsize=(20,7))\n",
    "data_en.boxplot()\n",
    "plt.show()"
   ]
  },
  {
   "cell_type": "code",
   "execution_count": 21,
   "id": "8b7c0ca4",
   "metadata": {},
   "outputs": [
    {
     "data": {
      "text/plain": [
       "(5216, 23)"
      ]
     },
     "execution_count": 21,
     "metadata": {},
     "output_type": "execute_result"
    }
   ],
   "source": [
    "data_en.shape"
   ]
  },
  {
   "cell_type": "markdown",
   "id": "dbc4048d",
   "metadata": {},
   "source": [
    "## Splitting data into featureset and target"
   ]
  },
  {
   "cell_type": "code",
   "execution_count": 22,
   "id": "c6a1d3f9",
   "metadata": {},
   "outputs": [],
   "source": [
    "y = data_en[['class']]\n",
    "X = data_en.drop('class', axis = 1)"
   ]
  },
  {
   "cell_type": "markdown",
   "id": "b0905d6d",
   "metadata": {},
   "source": [
    "### normalisation will give better result for classification algorithms"
   ]
  },
  {
   "cell_type": "code",
   "execution_count": 23,
   "id": "51071ed6",
   "metadata": {},
   "outputs": [
    {
     "data": {
      "text/html": [
       "<div>\n",
       "<style scoped>\n",
       "    .dataframe tbody tr th:only-of-type {\n",
       "        vertical-align: middle;\n",
       "    }\n",
       "\n",
       "    .dataframe tbody tr th {\n",
       "        vertical-align: top;\n",
       "    }\n",
       "\n",
       "    .dataframe thead th {\n",
       "        text-align: right;\n",
       "    }\n",
       "</style>\n",
       "<table border=\"1\" class=\"dataframe\">\n",
       "  <thead>\n",
       "    <tr style=\"text-align: right;\">\n",
       "      <th></th>\n",
       "      <th>0</th>\n",
       "      <th>1</th>\n",
       "      <th>2</th>\n",
       "      <th>3</th>\n",
       "      <th>4</th>\n",
       "      <th>5</th>\n",
       "      <th>6</th>\n",
       "      <th>7</th>\n",
       "      <th>8</th>\n",
       "      <th>9</th>\n",
       "      <th>...</th>\n",
       "      <th>12</th>\n",
       "      <th>13</th>\n",
       "      <th>14</th>\n",
       "      <th>15</th>\n",
       "      <th>16</th>\n",
       "      <th>17</th>\n",
       "      <th>18</th>\n",
       "      <th>19</th>\n",
       "      <th>20</th>\n",
       "      <th>21</th>\n",
       "    </tr>\n",
       "  </thead>\n",
       "  <tbody>\n",
       "    <tr>\n",
       "      <th>count</th>\n",
       "      <td>5216.000000</td>\n",
       "      <td>5216.000000</td>\n",
       "      <td>5216.000000</td>\n",
       "      <td>5216.000000</td>\n",
       "      <td>5216.000000</td>\n",
       "      <td>5216.000000</td>\n",
       "      <td>5216.0</td>\n",
       "      <td>5216.000000</td>\n",
       "      <td>5216.000000</td>\n",
       "      <td>5216.000000</td>\n",
       "      <td>...</td>\n",
       "      <td>5216.000000</td>\n",
       "      <td>5216.000000</td>\n",
       "      <td>5216.000000</td>\n",
       "      <td>5216.0</td>\n",
       "      <td>5216.000000</td>\n",
       "      <td>5216.000000</td>\n",
       "      <td>5216.000000</td>\n",
       "      <td>5216.000000</td>\n",
       "      <td>5216.000000</td>\n",
       "      <td>5216.000000</td>\n",
       "    </tr>\n",
       "    <tr>\n",
       "      <th>mean</th>\n",
       "      <td>0.237173</td>\n",
       "      <td>0.126392</td>\n",
       "      <td>0.267930</td>\n",
       "      <td>0.025192</td>\n",
       "      <td>0.280687</td>\n",
       "      <td>0.069107</td>\n",
       "      <td>0.0</td>\n",
       "      <td>0.023667</td>\n",
       "      <td>0.279861</td>\n",
       "      <td>0.046811</td>\n",
       "      <td>...</td>\n",
       "      <td>0.102812</td>\n",
       "      <td>0.358493</td>\n",
       "      <td>0.358146</td>\n",
       "      <td>0.0</td>\n",
       "      <td>0.138214</td>\n",
       "      <td>0.069107</td>\n",
       "      <td>0.146520</td>\n",
       "      <td>0.234970</td>\n",
       "      <td>0.295011</td>\n",
       "      <td>0.086038</td>\n",
       "    </tr>\n",
       "    <tr>\n",
       "      <th>std</th>\n",
       "      <td>0.100645</td>\n",
       "      <td>0.091113</td>\n",
       "      <td>0.164120</td>\n",
       "      <td>0.031952</td>\n",
       "      <td>0.130508</td>\n",
       "      <td>0.010974</td>\n",
       "      <td>0.0</td>\n",
       "      <td>0.031347</td>\n",
       "      <td>0.234531</td>\n",
       "      <td>0.029687</td>\n",
       "      <td>...</td>\n",
       "      <td>0.035742</td>\n",
       "      <td>0.135656</td>\n",
       "      <td>0.135894</td>\n",
       "      <td>0.0</td>\n",
       "      <td>0.021947</td>\n",
       "      <td>0.010974</td>\n",
       "      <td>0.114273</td>\n",
       "      <td>0.163604</td>\n",
       "      <td>0.063594</td>\n",
       "      <td>0.116389</td>\n",
       "    </tr>\n",
       "    <tr>\n",
       "      <th>min</th>\n",
       "      <td>0.000000</td>\n",
       "      <td>0.000000</td>\n",
       "      <td>0.000000</td>\n",
       "      <td>0.000000</td>\n",
       "      <td>0.055132</td>\n",
       "      <td>0.047946</td>\n",
       "      <td>0.0</td>\n",
       "      <td>0.000000</td>\n",
       "      <td>0.000000</td>\n",
       "      <td>0.000000</td>\n",
       "      <td>...</td>\n",
       "      <td>0.000000</td>\n",
       "      <td>0.000000</td>\n",
       "      <td>0.000000</td>\n",
       "      <td>0.0</td>\n",
       "      <td>0.095893</td>\n",
       "      <td>0.047946</td>\n",
       "      <td>0.000000</td>\n",
       "      <td>0.052058</td>\n",
       "      <td>0.157676</td>\n",
       "      <td>0.000000</td>\n",
       "    </tr>\n",
       "    <tr>\n",
       "      <th>25%</th>\n",
       "      <td>0.140028</td>\n",
       "      <td>0.000000</td>\n",
       "      <td>0.143499</td>\n",
       "      <td>0.000000</td>\n",
       "      <td>0.147442</td>\n",
       "      <td>0.062137</td>\n",
       "      <td>0.0</td>\n",
       "      <td>0.000000</td>\n",
       "      <td>0.000000</td>\n",
       "      <td>0.000000</td>\n",
       "      <td>...</td>\n",
       "      <td>0.071611</td>\n",
       "      <td>0.340503</td>\n",
       "      <td>0.336861</td>\n",
       "      <td>0.0</td>\n",
       "      <td>0.124274</td>\n",
       "      <td>0.062137</td>\n",
       "      <td>0.000000</td>\n",
       "      <td>0.089087</td>\n",
       "      <td>0.251976</td>\n",
       "      <td>0.000000</td>\n",
       "    </tr>\n",
       "    <tr>\n",
       "      <th>50%</th>\n",
       "      <td>0.205076</td>\n",
       "      <td>0.142494</td>\n",
       "      <td>0.240337</td>\n",
       "      <td>0.000000</td>\n",
       "      <td>0.298807</td>\n",
       "      <td>0.066082</td>\n",
       "      <td>0.0</td>\n",
       "      <td>0.000000</td>\n",
       "      <td>0.277350</td>\n",
       "      <td>0.062017</td>\n",
       "      <td>...</td>\n",
       "      <td>0.117851</td>\n",
       "      <td>0.401790</td>\n",
       "      <td>0.401790</td>\n",
       "      <td>0.0</td>\n",
       "      <td>0.132164</td>\n",
       "      <td>0.066082</td>\n",
       "      <td>0.165521</td>\n",
       "      <td>0.173458</td>\n",
       "      <td>0.279372</td>\n",
       "      <td>0.000000</td>\n",
       "    </tr>\n",
       "    <tr>\n",
       "      <th>75%</th>\n",
       "      <td>0.319438</td>\n",
       "      <td>0.195698</td>\n",
       "      <td>0.281092</td>\n",
       "      <td>0.062257</td>\n",
       "      <td>0.368605</td>\n",
       "      <td>0.072357</td>\n",
       "      <td>0.0</td>\n",
       "      <td>0.062137</td>\n",
       "      <td>0.503871</td>\n",
       "      <td>0.066667</td>\n",
       "      <td>...</td>\n",
       "      <td>0.129914</td>\n",
       "      <td>0.439219</td>\n",
       "      <td>0.439219</td>\n",
       "      <td>0.0</td>\n",
       "      <td>0.144715</td>\n",
       "      <td>0.072357</td>\n",
       "      <td>0.250982</td>\n",
       "      <td>0.433289</td>\n",
       "      <td>0.323423</td>\n",
       "      <td>0.137118</td>\n",
       "    </tr>\n",
       "    <tr>\n",
       "      <th>max</th>\n",
       "      <td>0.593391</td>\n",
       "      <td>0.390567</td>\n",
       "      <td>0.814822</td>\n",
       "      <td>0.088388</td>\n",
       "      <td>0.535720</td>\n",
       "      <td>0.141421</td>\n",
       "      <td>0.0</td>\n",
       "      <td>0.078326</td>\n",
       "      <td>0.718185</td>\n",
       "      <td>0.088388</td>\n",
       "      <td>...</td>\n",
       "      <td>0.176777</td>\n",
       "      <td>0.646997</td>\n",
       "      <td>0.646997</td>\n",
       "      <td>0.0</td>\n",
       "      <td>0.282843</td>\n",
       "      <td>0.141421</td>\n",
       "      <td>0.353553</td>\n",
       "      <td>0.548282</td>\n",
       "      <td>0.650945</td>\n",
       "      <td>0.492366</td>\n",
       "    </tr>\n",
       "  </tbody>\n",
       "</table>\n",
       "<p>8 rows × 22 columns</p>\n",
       "</div>"
      ],
      "text/plain": [
       "                0            1            2            3            4   \\\n",
       "count  5216.000000  5216.000000  5216.000000  5216.000000  5216.000000   \n",
       "mean      0.237173     0.126392     0.267930     0.025192     0.280687   \n",
       "std       0.100645     0.091113     0.164120     0.031952     0.130508   \n",
       "min       0.000000     0.000000     0.000000     0.000000     0.055132   \n",
       "25%       0.140028     0.000000     0.143499     0.000000     0.147442   \n",
       "50%       0.205076     0.142494     0.240337     0.000000     0.298807   \n",
       "75%       0.319438     0.195698     0.281092     0.062257     0.368605   \n",
       "max       0.593391     0.390567     0.814822     0.088388     0.535720   \n",
       "\n",
       "                5       6            7            8            9   ...  \\\n",
       "count  5216.000000  5216.0  5216.000000  5216.000000  5216.000000  ...   \n",
       "mean      0.069107     0.0     0.023667     0.279861     0.046811  ...   \n",
       "std       0.010974     0.0     0.031347     0.234531     0.029687  ...   \n",
       "min       0.047946     0.0     0.000000     0.000000     0.000000  ...   \n",
       "25%       0.062137     0.0     0.000000     0.000000     0.000000  ...   \n",
       "50%       0.066082     0.0     0.000000     0.277350     0.062017  ...   \n",
       "75%       0.072357     0.0     0.062137     0.503871     0.066667  ...   \n",
       "max       0.141421     0.0     0.078326     0.718185     0.088388  ...   \n",
       "\n",
       "                12           13           14      15           16  \\\n",
       "count  5216.000000  5216.000000  5216.000000  5216.0  5216.000000   \n",
       "mean      0.102812     0.358493     0.358146     0.0     0.138214   \n",
       "std       0.035742     0.135656     0.135894     0.0     0.021947   \n",
       "min       0.000000     0.000000     0.000000     0.0     0.095893   \n",
       "25%       0.071611     0.340503     0.336861     0.0     0.124274   \n",
       "50%       0.117851     0.401790     0.401790     0.0     0.132164   \n",
       "75%       0.129914     0.439219     0.439219     0.0     0.144715   \n",
       "max       0.176777     0.646997     0.646997     0.0     0.282843   \n",
       "\n",
       "                17           18           19           20           21  \n",
       "count  5216.000000  5216.000000  5216.000000  5216.000000  5216.000000  \n",
       "mean      0.069107     0.146520     0.234970     0.295011     0.086038  \n",
       "std       0.010974     0.114273     0.163604     0.063594     0.116389  \n",
       "min       0.047946     0.000000     0.052058     0.157676     0.000000  \n",
       "25%       0.062137     0.000000     0.089087     0.251976     0.000000  \n",
       "50%       0.066082     0.165521     0.173458     0.279372     0.000000  \n",
       "75%       0.072357     0.250982     0.433289     0.323423     0.137118  \n",
       "max       0.141421     0.353553     0.548282     0.650945     0.492366  \n",
       "\n",
       "[8 rows x 22 columns]"
      ]
     },
     "execution_count": 23,
     "metadata": {},
     "output_type": "execute_result"
    }
   ],
   "source": [
    "from sklearn.preprocessing import normalize\n",
    "X = normalize(X)\n",
    "X = pd.DataFrame(X)\n",
    "X.describe()"
   ]
  },
  {
   "cell_type": "markdown",
   "id": "8ae256d7",
   "metadata": {},
   "source": [
    "## Splitting Dataset into Train and test set"
   ]
  },
  {
   "cell_type": "code",
   "execution_count": 24,
   "id": "62fe4910",
   "metadata": {},
   "outputs": [],
   "source": [
    "#importing train_test_split library from model_selection\n",
    "from sklearn.model_selection import train_test_split\n",
    "#creating the instances\n",
    "X_train,X_test,y_train,y_test=train_test_split(X,y,random_state=42,test_size=.2)"
   ]
  },
  {
   "cell_type": "markdown",
   "id": "58d6bcbf",
   "metadata": {},
   "source": [
    "## ML Algorithms"
   ]
  },
  {
   "cell_type": "markdown",
   "id": "308b56f8",
   "metadata": {},
   "source": [
    "### a.Logistic Regression"
   ]
  },
  {
   "cell_type": "code",
   "execution_count": 25,
   "id": "420246ed",
   "metadata": {},
   "outputs": [],
   "source": [
    "#importing logistic regression from linear model\n",
    "from sklearn.linear_model import LogisticRegression\n",
    "logit_model = LogisticRegression()\n",
    "logit_model.fit(X_train,y_train)\n",
    "y_pred_log = logit_model.predict(X_test)"
   ]
  },
  {
   "cell_type": "code",
   "execution_count": 26,
   "id": "7ed807c9",
   "metadata": {},
   "outputs": [],
   "source": [
    "from sklearn.metrics import confusion_matrix, accuracy_score, precision_score, recall_score, f1_score"
   ]
  },
  {
   "cell_type": "code",
   "execution_count": 27,
   "id": "41923931",
   "metadata": {
    "scrolled": true
   },
   "outputs": [
    {
     "name": "stdout",
     "output_type": "stream",
     "text": [
      "Accuracy is : 0.9837164750957854\n",
      "Precision is : 0.9837696544017879\n",
      "Recall is : 0.9809768484535878\n",
      "F1 score is : 0.9823447781906084\n",
      "\n",
      "\n",
      "\n",
      "Confusion matrix\n",
      "\n",
      " [[368  11]\n",
      " [  6 659]]\n"
     ]
    }
   ],
   "source": [
    "print(\"Accuracy is :\", accuracy_score(y_test,y_pred_log))\n",
    "print(\"Precision is :\", precision_score(y_test,y_pred_log, average='macro'))\n",
    "print(\"Recall is :\", recall_score(y_test,y_pred_log, average='macro'))\n",
    "print(\"F1 score is :\", f1_score(y_test,y_pred_log, average='macro'))\n",
    "print('\\n\\n\\nConfusion matrix\\n\\n',confusion_matrix(y_test,y_pred_log))"
   ]
  },
  {
   "cell_type": "markdown",
   "id": "8424ad83",
   "metadata": {},
   "source": [
    "### b.KNN- K Nearest Neighbor"
   ]
  },
  {
   "cell_type": "code",
   "execution_count": 28,
   "id": "6330bc08",
   "metadata": {},
   "outputs": [],
   "source": [
    "from sklearn.neighbors import KNeighborsClassifier\n",
    "#creating empty list for finding optimal K values(Accuracy values)\n",
    "acc_value = []\n",
    "#creating neighbors as 3 to 15\n",
    "neighbors = np.arange(3,15)\n",
    "for k in neighbors:\n",
    "    # taking instances for KNN into variable name classifier using the method minkowski\n",
    "    classifier = KNeighborsClassifier(n_neighbors=k, metric=\"minkowski\")\n",
    "    classifier.fit(X_train,y_train)\n",
    "    y_pred_kn = classifier.predict(X_test)\n",
    "    acc = accuracy_score(y_test,y_pred_kn)\n",
    "    acc_value.append(acc)"
   ]
  },
  {
   "cell_type": "code",
   "execution_count": 29,
   "id": "d4ee4ce4",
   "metadata": {},
   "outputs": [
    {
     "data": {
      "text/plain": [
       "[1.0, 1.0, 1.0, 1.0, 1.0, 1.0, 1.0, 1.0, 1.0, 1.0, 1.0, 1.0]"
      ]
     },
     "execution_count": 29,
     "metadata": {},
     "output_type": "execute_result"
    }
   ],
   "source": [
    "acc_value"
   ]
  },
  {
   "cell_type": "code",
   "execution_count": 30,
   "id": "3d2bfce7",
   "metadata": {},
   "outputs": [
    {
     "data": {
      "text/plain": [
       "Text(0, 0.5, 'Accuracy values')"
      ]
     },
     "execution_count": 30,
     "metadata": {},
     "output_type": "execute_result"
    },
    {
     "data": {
      "image/png": "[encoded data removed]",
      "text/plain": [
       "<Figure size 432x288 with 1 Axes>"
      ]
     },
     "metadata": {
      "needs_background": "light"
     },
     "output_type": "display_data"
    }
   ],
   "source": [
    "plt.plot(neighbors,acc_value,\"o-\")\n",
    "plt.xlabel(\"K values\")\n",
    "plt.ylabel(\"Accuracy values\")"
   ]
  },
  {
   "cell_type": "code",
   "execution_count": 31,
   "id": "8937becc",
   "metadata": {
    "scrolled": true
   },
   "outputs": [
    {
     "name": "stdout",
     "output_type": "stream",
     "text": [
      "Accuracy is : 1.0\n",
      "Precision is : 1.0\n",
      "Recall is : 1.0\n",
      "F1 score is : 1.0\n",
      "\n",
      "\n",
      "\n",
      "Confusion matrix\n",
      "\n",
      " [[379   0]\n",
      " [  0 665]]\n"
     ]
    }
   ],
   "source": [
    "classifier = KNeighborsClassifier(n_neighbors=3, metric=\"minkowski\")\n",
    "classifier.fit(X_train,y_train)\n",
    "y_pred_knn = classifier.predict(X_test)\n",
    "print(\"Accuracy is :\", accuracy_score(y_test,y_pred_knn))\n",
    "print(\"Precision is :\", precision_score(y_test,y_pred_knn, average='macro'))\n",
    "print(\"Recall is :\", recall_score(y_test,y_pred_knn, average='macro'))\n",
    "print(\"F1 score is :\", f1_score(y_test,y_pred_knn, average='macro'))\n",
    "print('\\n\\n\\nConfusion matrix\\n\\n',confusion_matrix(y_test,y_pred_knn))"
   ]
  },
  {
   "cell_type": "markdown",
   "id": "d124d005",
   "metadata": {},
   "source": [
    "### c.SVM- Support Vector Machine"
   ]
  },
  {
   "cell_type": "code",
   "execution_count": 32,
   "id": "4a636713",
   "metadata": {},
   "outputs": [],
   "source": [
    "#importing SVC from SVM\n",
    "from sklearn.svm import SVC\n",
    "svm_rbf=SVC(kernel='rbf')\n",
    "svm_rbf.fit(X_train,y_train)\n",
    "y_pred_sv=svm_rbf.predict(X_test)"
   ]
  },
  {
   "cell_type": "code",
   "execution_count": 33,
   "id": "fd11cae9",
   "metadata": {},
   "outputs": [
    {
     "name": "stdout",
     "output_type": "stream",
     "text": [
      "Accuracy is : 1.0\n",
      "Precision is : 1.0\n",
      "Recall is : 1.0\n",
      "F1 score is : 1.0\n",
      "\n",
      "\n",
      "\n",
      "Confusion matrix\n",
      "\n",
      " [[379   0]\n",
      " [  0 665]]\n"
     ]
    }
   ],
   "source": [
    "print(\"Accuracy is :\", accuracy_score(y_test,y_pred_sv))\n",
    "print(\"Precision is :\", precision_score(y_test,y_pred_sv, average='macro'))\n",
    "print(\"Recall is :\", recall_score(y_test,y_pred_sv, average='macro'))\n",
    "print(\"F1 score is :\", f1_score(y_test,y_pred_sv, average='macro'))\n",
    "print('\\n\\n\\nConfusion matrix\\n\\n',confusion_matrix(y_test,y_pred_sv))"
   ]
  },
  {
   "cell_type": "markdown",
   "id": "df35c809",
   "metadata": {},
   "source": [
    "### d.Decision Tree"
   ]
  },
  {
   "cell_type": "code",
   "execution_count": 34,
   "id": "9f58abf9",
   "metadata": {},
   "outputs": [
    {
     "name": "stdout",
     "output_type": "stream",
     "text": [
      "Accuracy is : 1.0\n",
      "Precision is : 1.0\n",
      "Recall is : 1.0\n",
      "F1 score is : 1.0\n",
      "\n",
      "\n",
      "\n",
      "Confusion matrix\n",
      "\n",
      " [[379   0]\n",
      " [  0 665]]\n"
     ]
    }
   ],
   "source": [
    "#importing DecisionTreeClassifier from sklearn.tree\n",
    "from sklearn.tree import DecisionTreeClassifier\n",
    "dec_tree_model=DecisionTreeClassifier()\n",
    "dec_tree_model.fit(X_train,y_train)\n",
    "y_pred_dt=dec_tree_model.predict(X_test)\n",
    "print(\"Accuracy is :\", accuracy_score(y_test,y_pred_dt))\n",
    "print(\"Precision is :\", precision_score(y_test,y_pred_dt, average='macro'))\n",
    "print(\"Recall is :\", recall_score(y_test,y_pred_dt, average='macro'))\n",
    "print(\"F1 score is :\", f1_score(y_test,y_pred_dt, average='macro'))\n",
    "print('\\n\\n\\nConfusion matrix\\n\\n',confusion_matrix(y_test,y_pred_dt))"
   ]
  },
  {
   "cell_type": "markdown",
   "id": "7143846d",
   "metadata": {},
   "source": [
    "### e.Random Forest Model"
   ]
  },
  {
   "cell_type": "code",
   "execution_count": 35,
   "id": "db2b5fd3",
   "metadata": {},
   "outputs": [
    {
     "name": "stdout",
     "output_type": "stream",
     "text": [
      "Accuracy is : 1.0\n",
      "Precision is : 1.0\n",
      "Recall is : 1.0\n",
      "F1 score is : 1.0\n",
      "\n",
      "\n",
      "\n",
      "Confusion matrix\n",
      "\n",
      " [[379   0]\n",
      " [  0 665]]\n"
     ]
    }
   ],
   "source": [
    "#importing RandomForestClassifier from sklearn.ensemble\n",
    "from sklearn.ensemble import RandomForestClassifier\n",
    "rand_f=RandomForestClassifier()\n",
    "rand_f.fit(X_train,y_train)\n",
    "y_pred_rf=rand_f.predict(X_test)\n",
    "print(\"Accuracy is :\", accuracy_score(y_test,y_pred_rf))\n",
    "print(\"Precision is :\", precision_score(y_test,y_pred_rf, average='macro'))\n",
    "print(\"Recall is :\", recall_score(y_test,y_pred_rf, average='macro'))\n",
    "print(\"F1 score is :\", f1_score(y_test,y_pred_rf, average='macro'))\n",
    "print('\\n\\n\\nConfusion matrix\\n\\n',confusion_matrix(y_test,y_pred_rf))"
   ]
  },
  {
   "cell_type": "code",
   "execution_count": 36,
   "id": "d56dae26",
   "metadata": {},
   "outputs": [
    {
     "data": {
      "text/plain": [
       "3     25.969231\n",
       "18    14.032125\n",
       "8     12.048185\n",
       "4     11.322592\n",
       "21     7.676568\n",
       "19     7.538381\n",
       "11     5.928224\n",
       "7      4.561079\n",
       "12     3.472678\n",
       "9      2.864670\n",
       "1      1.255273\n",
       "2      1.181194\n",
       "20     1.079906\n",
       "16     0.269628\n",
       "17     0.244158\n",
       "13     0.198659\n",
       "5      0.171481\n",
       "14     0.139355\n",
       "0      0.046612\n",
       "6      0.000000\n",
       "10     0.000000\n",
       "15     0.000000\n",
       "dtype: float64"
      ]
     },
     "execution_count": 36,
     "metadata": {},
     "output_type": "execute_result"
    }
   ],
   "source": [
    "pd.Series(rand_f.feature_importances_,index=X.columns).sort_values(ascending=False)*100"
   ]
  },
  {
   "cell_type": "markdown",
   "id": "46cac532",
   "metadata": {},
   "source": [
    "cap-shape, gill-spacing, stalk-root, veil-type, veil-color, ring-number, gill-attachment : These columns do not have much role in data. So, maybe removed. Almost all models are already overfitting. So, doing nothing now."
   ]
  },
  {
   "cell_type": "markdown",
   "id": "ae044cb9",
   "metadata": {},
   "source": [
    "### f.Gradient Boosting"
   ]
  },
  {
   "cell_type": "code",
   "execution_count": 37,
   "id": "3aab270d",
   "metadata": {},
   "outputs": [
    {
     "name": "stdout",
     "output_type": "stream",
     "text": [
      "Accuracy is : 1.0\n",
      "Precision is : 1.0\n",
      "Recall is : 1.0\n",
      "F1 score is : 1.0\n",
      "\n",
      "\n",
      "\n",
      "Confusion matrix\n",
      "\n",
      " [[379   0]\n",
      " [  0 665]]\n"
     ]
    }
   ],
   "source": [
    "#importing GradientBoostingClassifier from sklearn.ensemble\n",
    "from sklearn.ensemble import GradientBoostingClassifier\n",
    "grad_b=GradientBoostingClassifier()\n",
    "grad_b.fit(X_train, y_train)\n",
    "y_pred_gb=grad_b.predict(X_test)\n",
    "print(\"Accuracy is :\", accuracy_score(y_test,y_pred_gb))\n",
    "print(\"Precision is :\", precision_score(y_test,y_pred_gb, average='macro'))\n",
    "print(\"Recall is :\", recall_score(y_test,y_pred_gb, average='macro'))\n",
    "print(\"F1 score is :\", f1_score(y_test,y_pred_gb, average='macro'))\n",
    "print('\\n\\n\\nConfusion matrix\\n\\n',confusion_matrix(y_test,y_pred_gb))"
   ]
  },
  {
   "cell_type": "markdown",
   "id": "050c1422",
   "metadata": {},
   "source": [
    "## Naïve Bayes’ Classifier Algorithms"
   ]
  },
  {
   "cell_type": "markdown",
   "id": "bb7b4ee0",
   "metadata": {},
   "source": [
    "### a.Fitting Gaussian Naive Bayes to the Training Set:"
   ]
  },
  {
   "cell_type": "code",
   "execution_count": 38,
   "id": "7c5e859c",
   "metadata": {},
   "outputs": [
    {
     "data": {
      "text/plain": [
       "GaussianNB()"
      ]
     },
     "execution_count": 38,
     "metadata": {},
     "output_type": "execute_result"
    }
   ],
   "source": [
    "from sklearn.naive_bayes import GaussianNB\n",
    "classifier=GaussianNB()\n",
    "classifier.fit(X_train,y_train)"
   ]
  },
  {
   "cell_type": "code",
   "execution_count": 39,
   "id": "10aa325f",
   "metadata": {},
   "outputs": [],
   "source": [
    "y_pred_g=classifier.predict(X_test)"
   ]
  },
  {
   "cell_type": "code",
   "execution_count": 40,
   "id": "02247fb8",
   "metadata": {},
   "outputs": [
    {
     "name": "stdout",
     "output_type": "stream",
     "text": [
      "0.9865900383141762\n"
     ]
    },
    {
     "data": {
      "text/plain": [
       "array([[365,  14],\n",
       "       [  0, 665]], dtype=int64)"
      ]
     },
     "execution_count": 40,
     "metadata": {},
     "output_type": "execute_result"
    }
   ],
   "source": [
    "co_mat=confusion_matrix(y_test,y_pred_g)\n",
    "acc_g=accuracy_score(y_pred_g,y_test)\n",
    "print(acc_g)\n",
    "co_mat"
   ]
  },
  {
   "cell_type": "markdown",
   "id": "6d0db960",
   "metadata": {},
   "source": [
    "### b.Fitting Bernoulli Naive Bayes to the Training Set:"
   ]
  },
  {
   "cell_type": "code",
   "execution_count": 41,
   "id": "2e655741",
   "metadata": {},
   "outputs": [
    {
     "name": "stdout",
     "output_type": "stream",
     "text": [
      "0.9875478927203065\n"
     ]
    },
    {
     "data": {
      "text/plain": [
       "array([[366,  13],\n",
       "       [  0, 665]], dtype=int64)"
      ]
     },
     "execution_count": 41,
     "metadata": {},
     "output_type": "execute_result"
    }
   ],
   "source": [
    "from sklearn.naive_bayes import BernoulliNB\n",
    "ber=BernoulliNB()\n",
    "ber.fit(X_train,y_train)\n",
    "y_pred_ber=ber.predict(X_test)\n",
    "co_mat_ber=confusion_matrix(y_test,y_pred_ber)\n",
    "acc_ber=accuracy_score(y_pred_ber,y_test)\n",
    "print(acc_ber)\n",
    "co_mat_ber"
   ]
  },
  {
   "cell_type": "markdown",
   "id": "abcf1a3b",
   "metadata": {},
   "source": [
    "### c.Fitting Multinomial Naive Bayes to the Training Set:"
   ]
  },
  {
   "cell_type": "code",
   "execution_count": 42,
   "id": "f30af33c",
   "metadata": {},
   "outputs": [
    {
     "name": "stdout",
     "output_type": "stream",
     "text": [
      "0.803639846743295\n"
     ]
    },
    {
     "data": {
      "text/plain": [
       "array([[174, 205],\n",
       "       [  0, 665]], dtype=int64)"
      ]
     },
     "execution_count": 42,
     "metadata": {},
     "output_type": "execute_result"
    }
   ],
   "source": [
    "from sklearn.naive_bayes import MultinomialNB\n",
    "mul=MultinomialNB()\n",
    "mul.fit(X_train,y_train)\n",
    "y_pred_mul=mul.predict(X_test)\n",
    "co_mat_mul=confusion_matrix(y_test,y_pred_mul)\n",
    "acc_mul=accuracy_score(y_pred_mul,y_test)\n",
    "print(acc_mul)\n",
    "co_mat_mul"
   ]
  },
  {
   "cell_type": "markdown",
   "id": "9aea705d",
   "metadata": {},
   "source": [
    "### After normalization, in supervised Machine learning models, all models except Logistic regression provide 100% accuracy. So, they are overfitting. In Naive Bayes classifier, Bernoulli gives a better result(98.75%)."
   ]
  }
 ],
 "metadata": {
  "kernelspec": {
   "display_name": "Python 3",
   "language": "python",
   "name": "python3"
  },
  "language_info": {
   "codemirror_mode": {
    "name": "ipython",
    "version": 3
   },
   "file_extension": ".py",
   "mimetype": "text/x-python",
   "name": "python",
   "nbconvert_exporter": "python",
   "pygments_lexer": "ipython3",
   "version": "3.8.8"
  }
 },
 "nbformat": 4,
 "nbformat_minor": 5
}
