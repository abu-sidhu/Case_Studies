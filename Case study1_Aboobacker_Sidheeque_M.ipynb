{
 "cells": [
  {
   "cell_type": "code",
   "execution_count": 1,
   "id": "91bdc040",
   "metadata": {},
   "outputs": [],
   "source": [
    "import numpy as np\n",
    "import pandas as pd\n",
    "import matplotlib.pyplot as plt\n",
    "import seaborn as sns"
   ]
  },
  {
   "cell_type": "markdown",
   "id": "a0d61230",
   "metadata": {},
   "source": [
    "# 1. Read the dataset to the python environment."
   ]
  },
  {
   "cell_type": "code",
   "execution_count": 2,
   "id": "be242806",
   "metadata": {},
   "outputs": [
    {
     "data": {
      "text/html": [
       "<div>\n",
       "<style scoped>\n",
       "    .dataframe tbody tr th:only-of-type {\n",
       "        vertical-align: middle;\n",
       "    }\n",
       "\n",
       "    .dataframe tbody tr th {\n",
       "        vertical-align: top;\n",
       "    }\n",
       "\n",
       "    .dataframe thead th {\n",
       "        text-align: right;\n",
       "    }\n",
       "</style>\n",
       "<table border=\"1\" class=\"dataframe\">\n",
       "  <thead>\n",
       "    <tr style=\"text-align: right;\">\n",
       "      <th></th>\n",
       "      <th>Make</th>\n",
       "      <th>Model</th>\n",
       "      <th>Nickname</th>\n",
       "      <th>Car Gender</th>\n",
       "      <th>Buyer Gender</th>\n",
       "      <th>Buyer Age</th>\n",
       "      <th>Buzzword</th>\n",
       "      <th>Country</th>\n",
       "      <th>City</th>\n",
       "      <th>Dealer Latitude</th>\n",
       "      <th>Dealer Longitude</th>\n",
       "      <th>Color</th>\n",
       "      <th>New Car</th>\n",
       "      <th>Purchase Date</th>\n",
       "      <th>Sale Price</th>\n",
       "      <th>Discount</th>\n",
       "      <th>Resell Price</th>\n",
       "      <th>5-yr Depreciation</th>\n",
       "      <th>Top Speed</th>\n",
       "      <th>0-60 Time</th>\n",
       "    </tr>\n",
       "  </thead>\n",
       "  <tbody>\n",
       "    <tr>\n",
       "      <th>0</th>\n",
       "      <td>Suzuki</td>\n",
       "      <td>Vitara</td>\n",
       "      <td>Philippine</td>\n",
       "      <td>Female</td>\n",
       "      <td>Female</td>\n",
       "      <td>51</td>\n",
       "      <td>User-friendly</td>\n",
       "      <td>Belgium</td>\n",
       "      <td>Antwerpen</td>\n",
       "      <td>51.247239</td>\n",
       "      <td>4.440346</td>\n",
       "      <td>Yellow</td>\n",
       "      <td>False</td>\n",
       "      <td>19/07/2009</td>\n",
       "      <td>54806.14</td>\n",
       "      <td>0.2467</td>\n",
       "      <td>33858.32</td>\n",
       "      <td>0.13</td>\n",
       "      <td>200.9</td>\n",
       "      <td>11.5</td>\n",
       "    </tr>\n",
       "    <tr>\n",
       "      <th>1</th>\n",
       "      <td>Honda</td>\n",
       "      <td>S2000</td>\n",
       "      <td>Henrik</td>\n",
       "      <td>Male</td>\n",
       "      <td>Male</td>\n",
       "      <td>30</td>\n",
       "      <td>analyzing</td>\n",
       "      <td>China</td>\n",
       "      <td>Jinhu</td>\n",
       "      <td>33.025433</td>\n",
       "      <td>119.020584</td>\n",
       "      <td>Crimson</td>\n",
       "      <td>False</td>\n",
       "      <td>26/10/2015</td>\n",
       "      <td>51826.30</td>\n",
       "      <td>0.3147</td>\n",
       "      <td>2989.28</td>\n",
       "      <td>0.02</td>\n",
       "      <td>158.5</td>\n",
       "      <td>8.8</td>\n",
       "    </tr>\n",
       "    <tr>\n",
       "      <th>2</th>\n",
       "      <td>BMW</td>\n",
       "      <td>Z4</td>\n",
       "      <td>Lebbie</td>\n",
       "      <td>Male</td>\n",
       "      <td>Female</td>\n",
       "      <td>54</td>\n",
       "      <td>software</td>\n",
       "      <td>China</td>\n",
       "      <td>Gemo</td>\n",
       "      <td>30.916207</td>\n",
       "      <td>121.677640</td>\n",
       "      <td>Khaki</td>\n",
       "      <td>False</td>\n",
       "      <td>28/03/2010</td>\n",
       "      <td>82929.14</td>\n",
       "      <td>0.5414</td>\n",
       "      <td>35049.16</td>\n",
       "      <td>0.24</td>\n",
       "      <td>149.5</td>\n",
       "      <td>14.4</td>\n",
       "    </tr>\n",
       "  </tbody>\n",
       "</table>\n",
       "</div>"
      ],
      "text/plain": [
       "     Make   Model    Nickname Car Gender Buyer Gender  Buyer Age  \\\n",
       "0  Suzuki  Vitara  Philippine     Female       Female         51   \n",
       "1   Honda   S2000      Henrik       Male         Male         30   \n",
       "2     BMW      Z4      Lebbie       Male       Female         54   \n",
       "\n",
       "        Buzzword  Country       City  Dealer Latitude  Dealer Longitude  \\\n",
       "0  User-friendly  Belgium  Antwerpen        51.247239          4.440346   \n",
       "1      analyzing    China      Jinhu        33.025433        119.020584   \n",
       "2       software    China       Gemo        30.916207        121.677640   \n",
       "\n",
       "     Color  New Car Purchase Date  Sale Price  Discount  Resell Price  \\\n",
       "0   Yellow    False    19/07/2009    54806.14    0.2467      33858.32   \n",
       "1  Crimson    False    26/10/2015    51826.30    0.3147       2989.28   \n",
       "2    Khaki    False    28/03/2010    82929.14    0.5414      35049.16   \n",
       "\n",
       "   5-yr Depreciation  Top Speed  0-60 Time  \n",
       "0               0.13      200.9       11.5  \n",
       "1               0.02      158.5        8.8  \n",
       "2               0.24      149.5       14.4  "
      ]
     },
     "execution_count": 2,
     "metadata": {},
     "output_type": "execute_result"
    }
   ],
   "source": [
    "data_set=pd.read_csv('cars_data.csv')\n",
    "data_set.head(3)"
   ]
  },
  {
   "cell_type": "markdown",
   "id": "805dd682",
   "metadata": {},
   "source": [
    "# 2. Check for the null values present in the dataset."
   ]
  },
  {
   "cell_type": "code",
   "execution_count": 3,
   "id": "d4f223a7",
   "metadata": {},
   "outputs": [
    {
     "name": "stdout",
     "output_type": "stream",
     "text": [
      "<class 'pandas.core.frame.DataFrame'>\n",
      "RangeIndex: 10000 entries, 0 to 9999\n",
      "Data columns (total 20 columns):\n",
      " #   Column             Non-Null Count  Dtype  \n",
      "---  ------             --------------  -----  \n",
      " 0   Make               10000 non-null  object \n",
      " 1   Model              10000 non-null  object \n",
      " 2   Nickname           10000 non-null  object \n",
      " 3   Car Gender         10000 non-null  object \n",
      " 4   Buyer Gender       10000 non-null  object \n",
      " 5   Buyer Age          10000 non-null  int64  \n",
      " 6   Buzzword           10000 non-null  object \n",
      " 7   Country            10000 non-null  object \n",
      " 8   City               10000 non-null  object \n",
      " 9   Dealer Latitude    10000 non-null  float64\n",
      " 10  Dealer Longitude   10000 non-null  float64\n",
      " 11  Color              10000 non-null  object \n",
      " 12  New Car            10000 non-null  bool   \n",
      " 13  Purchase Date      10000 non-null  object \n",
      " 14  Sale Price         10000 non-null  float64\n",
      " 15  Discount           10000 non-null  float64\n",
      " 16  Resell Price       10000 non-null  float64\n",
      " 17  5-yr Depreciation  10000 non-null  float64\n",
      " 18  Top Speed          10000 non-null  float64\n",
      " 19  0-60 Time          10000 non-null  float64\n",
      "dtypes: bool(1), float64(8), int64(1), object(10)\n",
      "memory usage: 1.5+ MB\n"
     ]
    }
   ],
   "source": [
    "data_set.info()"
   ]
  },
  {
   "cell_type": "markdown",
   "id": "5d2396b0",
   "metadata": {},
   "source": [
    "# 3. Plot a bar graph of male vs female buyers participated in the sales."
   ]
  },
  {
   "cell_type": "code",
   "execution_count": 4,
   "id": "091155e6",
   "metadata": {},
   "outputs": [
    {
     "data": {
      "image/png": "[encoded data removed]",
      "text/plain": [
       "<Figure size 432x288 with 1 Axes>"
      ]
     },
     "metadata": {
      "needs_background": "light"
     },
     "output_type": "display_data"
    }
   ],
   "source": [
    "gender=data_set['Buyer Gender'].value_counts().plot(kind='bar')\n",
    "for p in gender.patches:\n",
    "    gender.annotate(f'\\n{p.get_height()}', (p.get_x()+0.4, p.get_height()), ha='center', va='top', color='white', size=12)\n",
    "plt.xlabel('GENDER')\n",
    "plt.ylabel('COUNT')\n",
    "plt.title('Male and Female buyers participated in the sales',fontsize=15)\n",
    "plt.show()"
   ]
  },
  {
   "cell_type": "markdown",
   "id": "a9fc137a",
   "metadata": {},
   "source": [
    "# 4. Find the top 5 cars based on their sales price."
   ]
  },
  {
   "cell_type": "code",
   "execution_count": 21,
   "id": "fa497830",
   "metadata": {},
   "outputs": [
    {
     "data": {
      "text/html": [
       "<div>\n",
       "<style scoped>\n",
       "    .dataframe tbody tr th:only-of-type {\n",
       "        vertical-align: middle;\n",
       "    }\n",
       "\n",
       "    .dataframe tbody tr th {\n",
       "        vertical-align: top;\n",
       "    }\n",
       "\n",
       "    .dataframe thead th {\n",
       "        text-align: right;\n",
       "    }\n",
       "</style>\n",
       "<table border=\"1\" class=\"dataframe\">\n",
       "  <thead>\n",
       "    <tr style=\"text-align: right;\">\n",
       "      <th></th>\n",
       "      <th>Make</th>\n",
       "      <th>Model</th>\n",
       "      <th>Sale Price</th>\n",
       "    </tr>\n",
       "  </thead>\n",
       "  <tbody>\n",
       "    <tr>\n",
       "      <th>5984</th>\n",
       "      <td>Volkswagen</td>\n",
       "      <td>Jetta III</td>\n",
       "      <td>99997.65</td>\n",
       "    </tr>\n",
       "    <tr>\n",
       "      <th>1270</th>\n",
       "      <td>Audi</td>\n",
       "      <td>A6</td>\n",
       "      <td>99991.91</td>\n",
       "    </tr>\n",
       "    <tr>\n",
       "      <th>3460</th>\n",
       "      <td>Lexus</td>\n",
       "      <td>LX</td>\n",
       "      <td>99983.38</td>\n",
       "    </tr>\n",
       "    <tr>\n",
       "      <th>9032</th>\n",
       "      <td>Mazda</td>\n",
       "      <td>MX-6</td>\n",
       "      <td>99978.17</td>\n",
       "    </tr>\n",
       "    <tr>\n",
       "      <th>302</th>\n",
       "      <td>Lexus</td>\n",
       "      <td>ES</td>\n",
       "      <td>99973.44</td>\n",
       "    </tr>\n",
       "  </tbody>\n",
       "</table>\n",
       "</div>"
      ],
      "text/plain": [
       "            Make      Model  Sale Price\n",
       "5984  Volkswagen  Jetta III    99997.65\n",
       "1270        Audi         A6    99991.91\n",
       "3460       Lexus         LX    99983.38\n",
       "9032       Mazda       MX-6    99978.17\n",
       "302        Lexus         ES    99973.44"
      ]
     },
     "execution_count": 21,
     "metadata": {},
     "output_type": "execute_result"
    }
   ],
   "source": [
    "#slicing data\n",
    "max = data_set.sort_values(by=['Sale Price'],ascending=False)\n",
    "top_5=max[['Make','Model','Sale Price']].head(5)\n",
    "top_5"
   ]
  },
  {
   "cell_type": "code",
   "execution_count": 24,
   "id": "8d25d710",
   "metadata": {},
   "outputs": [
    {
     "data": {
      "image/png": "[encoded data removed]",
      "text/plain": [
       "<Figure size 432x288 with 1 Axes>"
      ]
     },
     "metadata": {
      "needs_background": "light"
     },
     "output_type": "display_data"
    }
   ],
   "source": [
    "#ploting graph\n",
    "\"\"\"name = max['Model'].head(5)\n",
    "price = max['Sale Price'].head(5)\n",
    "#Ploting bar graph\n",
    "plt.bar(name, price, color ='blue',width = 0.6)\n",
    "#labeling and title\n",
    "plt.xlabel('Model')\n",
    "plt.ylabel('Sale Price')\n",
    "\"\"\"\n",
    "g=sns.barplot(x='Model',y='Sale Price',data=max.head(5))\n",
    "plt.title('The top 5 cars based  on sale price',fontsize=13)\n",
    "for p in g.patches:\n",
    "    g.annotate(f'\\n{p.get_height()}', (p.get_x()+0.4, p.get_height()), ha='center', va='top', color='white', size=12)\n",
    "plt.show()"
   ]
  },
  {
   "cell_type": "markdown",
   "id": "6c7bd046",
   "metadata": {},
   "source": [
    "Top 5 cars based on the sales price are Volkswagen Jetta III, Audi A6, Lexus LX, Mazda MX-6, and Lexus ES "
   ]
  },
  {
   "cell_type": "markdown",
   "id": "7e014d69",
   "metadata": {},
   "source": [
    "# 5. Find the least 5 cars based on their Resell price."
   ]
  },
  {
   "cell_type": "code",
   "execution_count": 22,
   "id": "65147951",
   "metadata": {},
   "outputs": [
    {
     "data": {
      "text/html": [
       "<div>\n",
       "<style scoped>\n",
       "    .dataframe tbody tr th:only-of-type {\n",
       "        vertical-align: middle;\n",
       "    }\n",
       "\n",
       "    .dataframe tbody tr th {\n",
       "        vertical-align: top;\n",
       "    }\n",
       "\n",
       "    .dataframe thead th {\n",
       "        text-align: right;\n",
       "    }\n",
       "</style>\n",
       "<table border=\"1\" class=\"dataframe\">\n",
       "  <thead>\n",
       "    <tr style=\"text-align: right;\">\n",
       "      <th></th>\n",
       "      <th>Make</th>\n",
       "      <th>Model</th>\n",
       "      <th>Resell Price</th>\n",
       "    </tr>\n",
       "  </thead>\n",
       "  <tbody>\n",
       "    <tr>\n",
       "      <th>2446</th>\n",
       "      <td>Chevrolet</td>\n",
       "      <td>1500</td>\n",
       "      <td>2000.84</td>\n",
       "    </tr>\n",
       "    <tr>\n",
       "      <th>4933</th>\n",
       "      <td>GMC</td>\n",
       "      <td>Savana 1500</td>\n",
       "      <td>2005.44</td>\n",
       "    </tr>\n",
       "    <tr>\n",
       "      <th>566</th>\n",
       "      <td>Jaguar</td>\n",
       "      <td>XF</td>\n",
       "      <td>2014.09</td>\n",
       "    </tr>\n",
       "    <tr>\n",
       "      <th>2538</th>\n",
       "      <td>Mitsubishi</td>\n",
       "      <td>3000GT</td>\n",
       "      <td>2017.24</td>\n",
       "    </tr>\n",
       "    <tr>\n",
       "      <th>5869</th>\n",
       "      <td>Infiniti</td>\n",
       "      <td>G37</td>\n",
       "      <td>2017.83</td>\n",
       "    </tr>\n",
       "  </tbody>\n",
       "</table>\n",
       "</div>"
      ],
      "text/plain": [
       "            Make        Model  Resell Price\n",
       "2446   Chevrolet         1500       2000.84\n",
       "4933         GMC  Savana 1500       2005.44\n",
       "566       Jaguar           XF       2014.09\n",
       "2538  Mitsubishi       3000GT       2017.24\n",
       "5869    Infiniti          G37       2017.83"
      ]
     },
     "execution_count": 22,
     "metadata": {},
     "output_type": "execute_result"
    }
   ],
   "source": [
    "#slicing data\n",
    "min = data_set.sort_values(by=['Resell Price'],ascending=True)\n",
    "least_5=min[['Make','Model','Resell Price']].head(5)\n",
    "least_5"
   ]
  },
  {
   "cell_type": "code",
   "execution_count": 23,
   "id": "d31de57c",
   "metadata": {
    "scrolled": true
   },
   "outputs": [
    {
     "data": {
      "image/png": "[encoded data removed]",
      "text/plain": [
       "<Figure size 432x288 with 1 Axes>"
      ]
     },
     "metadata": {
      "needs_background": "light"
     },
     "output_type": "display_data"
    }
   ],
   "source": [
    "#ploting graph\n",
    "g=sns.barplot(x='Model',y='Resell Price',data=least_5)\n",
    "plt.title('The least 5 cars based on their Resell price',fontsize=14)\n",
    "for p in g.patches:\n",
    "    g.annotate(f'\\n{p.get_height()}', (p.get_x()+0.4, p.get_height()), ha='center', va='top', color='white', size=12)\n",
    "plt.show()"
   ]
  },
  {
   "cell_type": "markdown",
   "id": "e3590935",
   "metadata": {},
   "source": [
    "The 5 cars with least reselling price are Chevrolet 1500,GMC Savana 1500, Jaguar XF,Mitsubishi 3000GT, and Infiniti G37 "
   ]
  }
 ],
 "metadata": {
  "kernelspec": {
   "display_name": "Python 3",
   "language": "python",
   "name": "python3"
  },
  "language_info": {
   "codemirror_mode": {
    "name": "ipython",
    "version": 3
   },
   "file_extension": ".py",
   "mimetype": "text/x-python",
   "name": "python",
   "nbconvert_exporter": "python",
   "pygments_lexer": "ipython3",
   "version": "3.8.8"
  }
 },
 "nbformat": 4,
 "nbformat_minor": 5
}
